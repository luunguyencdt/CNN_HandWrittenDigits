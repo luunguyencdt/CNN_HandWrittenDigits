{
 "cells": [
  {
   "cell_type": "code",
   "execution_count": 18,
   "metadata": {},
   "outputs": [
    {
     "name": "stdout",
     "output_type": "stream",
     "text": [
      "Epoch 1/3\n",
      "1875/1875 [==============================] - 315s 168ms/step - loss: 0.0530 - acc: 0.9870 - val_loss: 0.1725 - val_acc: 0.9695\n",
      "Epoch 2/3\n",
      "1875/1875 [==============================] - 462s 246ms/step - loss: 1.1490e-04 - acc: 1.0000 - val_loss: 0.2121 - val_acc: 0.9697\n",
      "Epoch 3/3\n",
      "1875/1875 [==============================] - 830s 442ms/step - loss: 2.1307e-05 - acc: 1.0000 - val_loss: 0.2398 - val_acc: 0.9699\n"
     ]
    }
   ],
   "source": [
    "import tensorflow as tf\n",
    "mnist = tf.keras.datasets.mnist # 28x28 of hand-written digits from 0-9\n",
    "\n",
    "# Load data and split into train,test data\n",
    "(trainX, trainY), (testX, testY) = mnist.load_data()\n",
    "\n",
    "BS =32 # Batch size\n",
    "EPOCHS=3\n",
    "# Normalize datas / scaling data\n",
    "# the data value will have range from 0-1\n",
    "\n",
    "trainX = tf.keras.utils.normalize(trainX, axis=1)\n",
    "testX = tf.keras.utils.normalize(testX, axis=1)\n",
    "\n",
    "# Create model\n",
    "model = tf.keras.models.Sequential()\n",
    "model.add(tf.keras.layers.Flatten())\n",
    "model.add(tf.keras.layers.Dense(128, activation=tf.nn.relu)) # 128 units (nerons in layer)\n",
    "model.add(tf.keras.layers.Dense(128, activation=tf.nn.relu)) # 128 units (nerons in layer)\n",
    "model.add(tf.keras.layers.Dense(10, activation=tf.nn.softmax)) # 128 units (nerons in layer), softmax for probability distribution\n",
    "\n",
    "\n",
    "model.compile(optimizer='adam',\n",
    "             loss='sparse_categorical_crossentropy',\n",
    "             metrics=['accuracy'])\n",
    "\n",
    "#model.fit(trainX, trainY, epochs=3)\n",
    "\n",
    "H = model.fit(trainX, trainY, batch_size=BS,validation_data=(testX, testY), \n",
    "              steps_per_epoch=len(trainX) // BS,\n",
    "              epochs=EPOCHS)"
   ]
  },
  {
   "cell_type": "code",
   "execution_count": 32,
   "metadata": {},
   "outputs": [
    {
     "name": "stdout",
     "output_type": "stream",
     "text": [
      "[INFO] evaluating network...\n"
     ]
    },
    {
     "data": {
      "text/plain": [
       "<matplotlib.legend.Legend at 0x1c9a0886d88>"
      ]
     },
     "execution_count": 32,
     "metadata": {},
     "output_type": "execute_result"
    },
    {
     "data": {
      "image/png": "[encoded data removed]",
      "text/plain": [
       "<Figure size 432x288 with 1 Axes>"
      ]
     },
     "metadata": {
      "needs_background": "light"
     },
     "output_type": "display_data"
    }
   ],
   "source": [
    "import numpy as np\n",
    "print(\"[INFO] evaluating network...\")\n",
    "predictions = model.predict(x=testX, batch_size=32)\n",
    "# plot the training loss and accuracy\n",
    "N = np.arange(0, EPOCHS)\n",
    "\n",
    "plt.figure()\n",
    "plt.plot(N, H.history[\"loss\"], label=\"train_loss\")\n",
    "plt.plot(N, H.history[\"val_loss\"], label=\"val_loss\")\n",
    "plt.plot(N, H.history[\"acc\"], label=\"train_acc\")\n",
    "plt.plot(N, H.history[\"val_acc\"], label=\"val_acc\")\n",
    "plt.title(\"Training Loss and Accuracy (HandWritten Digits)\")\n",
    "plt.xlabel(\"Epoch #\")\n",
    "plt.ylabel(\"Loss/Accuracy\")\n",
    "plt.legend()"
   ]
  },
  {
   "cell_type": "code",
   "execution_count": 33,
   "metadata": {},
   "outputs": [],
   "source": [
    "predictions = model.predict([testX])"
   ]
  },
  {
   "cell_type": "code",
   "execution_count": 40,
   "metadata": {},
   "outputs": [
    {
     "name": "stdout",
     "output_type": "stream",
     "text": [
      "9\n"
     ]
    },
    {
     "data": {
      "image/png": "[encoded data removed]",
      "text/plain": [
       "<Figure size 432x288 with 1 Axes>"
      ]
     },
     "metadata": {
      "needs_background": "light"
     },
     "output_type": "display_data"
    }
   ],
   "source": [
    "import matplotlib.pyplot as plt\n",
    "\n",
    "print(np.argmax(predictions[9]))\n",
    "plt.imshow(testX[9])\n",
    "plt.show()"
   ]
  }
 ],
 "metadata": {
  "kernelspec": {
   "display_name": "Python 3",
   "language": "python",
   "name": "python3"
  },
  "language_info": {
   "codemirror_mode": {
    "name": "ipython",
    "version": 3
   },
   "file_extension": ".py",
   "mimetype": "text/x-python",
   "name": "python",
   "nbconvert_exporter": "python",
   "pygments_lexer": "ipython3",
   "version": "3.7.6"
  }
 },
 "nbformat": 4,
 "nbformat_minor": 4
}
